{
  "cells": [
    {
      "cell_type": "markdown",
      "metadata": {
        "id": "CPOXHysXKGLW"
      },
      "source": [
        "# Lab Deep Learning/ Recurrent Neural Networks/ in keras\n",
        "\n",
        "## Training language model for generating sequences (One-to-Many)\n",
        "\n",
        "**Author: geoffroy.peeters@telecom-paris.fr**\n",
        "\n",
        "**Version**: 2023/09/19 (changed to tensorfow.keras, changed figures, code to function)\n",
        "\n",
        "For any remark or suggestion, please feel free to contact me.\n",
        "\n",
        "\n",
        "## Objective:\n",
        "\n",
        "- We will train a network to learn a language model and then use it to generate new sequences.\n",
        "\n",
        "- Instead of training the language model on text-documents (as it is the case in most examples) we will train it to learn the language of the music of [Johann_Sebastian_Bach](https://en.wikipedia.org/wiki/Johann_Sebastian_Bach).\n",
        "For this, we will learn how J. S. Bach's \"Cello suite\" have been composed.\n",
        "Here is an example of a \"Cello suite\" [Link](https://www.youtube.com/watch?v=mGQLXRTl3Z0).\n",
        "\n",
        "- Rather than analyzing the audio signal, we use a symbolic representation of the \"Cello suite\" through their [MIDI files](https://en.wikipedia.org/wiki/MIDI#MIDI_files).\n",
        "  - A MIDI file encodes in a file, the set of musical notes, their duration, and intensity which have to be played by each instrument to \"render\" a musical piece. The \"rendering\" is usually operated by a MIDI synthesizer (such as VLC, QuickTime) or a real performer (a musician reading a score).\n",
        "\n",
        "- We will first train a language model on the whole set of MIDI files of the \"Cello suites\".\n",
        "- We will then sample this language model to create a new MIDI file which will be a brand new \"Cello suite\" composed by the computer.\n",
        "\n",
        "### Questions:\n",
        "\n",
        "In the bottom part of this lab, you will have to answer a set of questions. Answers to those only necessitates a couple of sentences."
      ]
    },
    {
      "cell_type": "markdown",
      "metadata": {
        "id": "RjlvVXvgbpbW"
      },
      "source": [
        "## Import packages"
      ]
    },
    {
      "cell_type": "code",
      "execution_count": 2,
      "metadata": {
        "colab": {
          "base_uri": "https://localhost:8080/"
        },
        "id": "IXocQU0HDntL",
        "outputId": "ea632375-4f97-478e-f263-c169f9011189"
      },
      "outputs": [
        {
          "output_type": "stream",
          "name": "stdout",
          "text": [
            "Requirement already satisfied: pretty_midi in /usr/local/lib/python3.10/dist-packages (0.2.10)\n",
            "Requirement already satisfied: numpy>=1.7.0 in /usr/local/lib/python3.10/dist-packages (from pretty_midi) (1.23.5)\n",
            "Requirement already satisfied: mido>=1.1.16 in /usr/local/lib/python3.10/dist-packages (from pretty_midi) (1.3.0)\n",
            "Requirement already satisfied: six in /usr/local/lib/python3.10/dist-packages (from pretty_midi) (1.16.0)\n",
            "Requirement already satisfied: packaging~=23.1 in /usr/local/lib/python3.10/dist-packages (from mido>=1.1.16->pretty_midi) (23.2)\n"
          ]
        }
      ],
      "source": [
        "! pip install pretty_midi\n",
        "\n",
        "import os\n",
        "import pretty_midi\n",
        "from scipy.io import wavfile\n",
        "import IPython\n",
        "\n",
        "from tensorflow.keras import backend as K\n",
        "from tensorflow.keras.models import Sequential\n",
        "from tensorflow.keras.layers import Input, Dense, LSTM, Flatten, Dropout, Activation, SimpleRNN\n",
        "from tensorflow.keras.callbacks import EarlyStopping\n",
        "\n",
        "import matplotlib.pyplot as plt\n",
        "import numpy as np\n",
        "import glob\n",
        "\n",
        "student = True"
      ]
    },
    {
      "cell_type": "markdown",
      "metadata": {
        "id": "B6YQL6s5j93E"
      },
      "source": [
        "# Get the data"
      ]
    },
    {
      "cell_type": "code",
      "execution_count": 3,
      "metadata": {
        "id": "_gZx9igIOvtU"
      },
      "outputs": [],
      "source": [
        "# n_x --- the number of notes (here we consider the problem as a multi-class with n_x classes)\n",
        "n_x = 79\n",
        "# max_midi_T_x --- the maximum number of notes we read in each midi_file\n",
        "max_midi_T_x = 1000\n",
        "# model_T_x --- the length of the sequences considered for the RNN model\n",
        "#model_T_x = 200\n",
        "model_T_x = 100\n",
        "# model_n_a --- the number of neurons of each layer of the network\n",
        "#model_n_a = 256\n",
        "model_n_a = 32"
      ]
    },
    {
      "cell_type": "markdown",
      "metadata": {
        "id": "bgG1EmxKDhE5"
      },
      "source": [
        "## Collect data to create the language model\n",
        "\n",
        "We download the 36 MIDI files corresponding to the 36 \"Cello suites\" composed by J. S. Bach."
      ]
    },
    {
      "cell_type": "code",
      "execution_count": 4,
      "metadata": {
        "colab": {
          "base_uri": "https://localhost:8080/"
        },
        "id": "C9Tgx3ooDgSP",
        "outputId": "1dc3c9eb-6e1e-4059-b62f-6538f21a13b4"
      },
      "outputs": [
        {
          "output_type": "stream",
          "name": "stdout",
          "text": [
            "['./cs6-3cou.mid', './cs5-6gig.mid', './cs5-1pre.mid', './cs2-6gig.mid', './cs3-6gig.mid', './cs2-5men.mid', './cs3-3cou.mid', './cs5-4sar.mid', './cs6-2all.mid', './cs1-2all.mid', './cs4-6gig.mid', './cs1-3cou.mid', './cs5-3cou.mid', './cs4-5bou.mid', './cs2-2all.mid', './cs6-6gig.mid', './cs3-1pre.mid', './cs3-4sar.mid', './cs1-4sar.mid', './cs6-4sar.mid', './cs2-3cou.mid', './cs3-5bou.mid', './cs3-2all.mid', './cs5-2all.mid', './cs4-2all.mid', './cs2-4sar.mid', './cs4-4sar.mid', './cs1-1pre.mid', './cs4-1pre.mid', './cs6-5gav.mid', './cs5-5gav.mid', './cs6-1pre.mid', './cs4-3cou.mid', './cs1-6gig.mid', './cs2-1pre.mid', './cs1-5men.mid']\n"
          ]
        }
      ],
      "source": [
        "DIR = './'\n",
        "import urllib.request\n",
        "midi_file_l = ['cs1-2all.mid', 'cs5-1pre.mid', 'cs4-1pre.mid', 'cs3-5bou.mid', 'cs1-4sar.mid', 'cs2-5men.mid', 'cs3-3cou.mid', 'cs2-3cou.mid', 'cs1-6gig.mid', 'cs6-4sar.mid', 'cs4-5bou.mid', 'cs4-3cou.mid', 'cs5-3cou.mid', 'cs6-5gav.mid', 'cs6-6gig.mid', 'cs6-2all.mid', 'cs2-1pre.mid', 'cs3-1pre.mid', 'cs3-6gig.mid', 'cs2-6gig.mid', 'cs2-4sar.mid', 'cs3-4sar.mid', 'cs1-5men.mid', 'cs1-3cou.mid', 'cs6-1pre.mid', 'cs2-2all.mid', 'cs3-2all.mid', 'cs1-1pre.mid', 'cs5-2all.mid', 'cs4-2all.mid', 'cs5-5gav.mid', 'cs4-6gig.mid', 'cs5-6gig.mid', 'cs5-4sar.mid', 'cs4-4sar.mid', 'cs6-3cou.mid']\n",
        "for midi_file in midi_file_l:\n",
        "  #if os.path.isfile(DIR + midi_file) is None:\n",
        "  urllib.request.urlretrieve (\"http://www.jsbach.net/midi/\" + midi_file, DIR + midi_file)\n",
        "\n",
        "midi_file_l = glob.glob(DIR + 'cs*.mid')\n",
        "print(midi_file_l)"
      ]
    },
    {
      "cell_type": "markdown",
      "metadata": {
        "id": "HgCE_6urcVsj"
      },
      "source": [
        "## Read and convert all MIDI files\n",
        "\n",
        "We illustrate here the content of a MIDI file. Each file contains a list of notes to be played over time. Each note is characterized by\n",
        "- its `pitch` (in MIDI note number, la3=A4=69)\n",
        "- its `start` time (when to start playing the note)\n",
        "- its `stop` time (when to stop playing the note)\n",
        "- its `duration` (which is computed as stop-start)"
      ]
    },
    {
      "cell_type": "code",
      "execution_count": 5,
      "metadata": {
        "colab": {
          "base_uri": "https://localhost:8080/"
        },
        "id": "GEg5c8wfj93K",
        "outputId": "9f1b4d42-bea4-4fd5-b990-ff487b89e794"
      },
      "outputs": [
        {
          "output_type": "stream",
          "name": "stdout",
          "text": [
            "pitch: 62, start: 0.600000, end: 0.850000, duration: 0.250000\n",
            "pitch: 62, start: 0.850000, end: 1.100000, duration: 0.250000\n",
            "pitch: 50, start: 1.100000, end: 1.225000, duration: 0.125000\n",
            "pitch: 52, start: 1.225000, end: 1.350000, duration: 0.125000\n",
            "pitch: 54, start: 1.350000, end: 1.600000, duration: 0.250000\n",
            "pitch: 50, start: 1.600000, end: 1.850000, duration: 0.250000\n",
            "pitch: 57, start: 1.850000, end: 2.100000, duration: 0.250000\n",
            "pitch: 54, start: 2.100000, end: 2.350000, duration: 0.250000\n",
            "pitch: 62, start: 2.350000, end: 2.600000, duration: 0.250000\n",
            "pitch: 57, start: 2.600000, end: 2.850000, duration: 0.250000\n",
            "pitch: 66, start: 2.850000, end: 3.100000, duration: 0.250000\n",
            "pitch: 62, start: 3.100000, end: 3.350000, duration: 0.250000\n",
            "pitch: 69, start: 3.350000, end: 3.600000, duration: 0.250000\n",
            "pitch: 60, start: 3.600000, end: 3.850000, duration: 0.250000\n",
            "pitch: 59, start: 3.850000, end: 4.100000, duration: 0.250000\n",
            "pitch: 64, start: 4.100000, end: 4.225000, duration: 0.125000\n",
            "pitch: 66, start: 4.225000, end: 4.350000, duration: 0.125000\n",
            "pitch: 67, start: 4.350000, end: 4.600000, duration: 0.250000\n",
            "pitch: 64, start: 4.600000, end: 4.850000, duration: 0.250000\n",
            "pitch: 71, start: 4.850000, end: 5.100000, duration: 0.250000\n"
          ]
        }
      ],
      "source": [
        "# --- Read a single MIDI file\n",
        "midi_data = pretty_midi.PrettyMIDI(midi_file_l[0])\n",
        "# --- Display the note pitch, start, end and duration\n",
        "for note in midi_data.instruments[0].notes[:20]:\n",
        "    print('pitch: %d, start: %f, end: %f, duration: %f' % (note.pitch, note.start, note.end, note.end-note.start))"
      ]
    },
    {
      "cell_type": "markdown",
      "metadata": {
        "id": "mDofyEKjcd4E"
      },
      "source": [
        "We read each MIDI file and for each only retains the `pitch` (we name it `note`) information.\n",
        "We convert the list of `note`  to a one-hot-encoding matrix X_ohe of dimensions `(midi_T_x, n_x)` where `n_x` is the number of possible musical notes.\n",
        "The length of the sequences `midi_T_x` can vary from one sequence to the other.\n",
        "\n"
      ]
    },
    {
      "cell_type": "code",
      "execution_count": 6,
      "metadata": {
        "id": "EirVcbKxEe-3"
      },
      "outputs": [],
      "source": [
        "def F_convert_midi_2_list(midi_file_l, max_midi_T_x):\n",
        "    \"\"\"\n",
        "    read the notes within all midi files\n",
        "    truncate the length if > max_midi_T_x\n",
        "\n",
        "    Parameters\n",
        "    ----------\n",
        "    midi_file_l:\n",
        "        list of MIDI files\n",
        "    max_midi_T_x:\n",
        "        the maximum number of notes we read in a given midi_file\n",
        "\n",
        "    Returns\n",
        "    -------\n",
        "    X_list:\n",
        "        a list of np.array X_ohe of size (midi_T_x, n_x) which contains the one-hot-encoding representation of notes over time\n",
        "    \"\"\"\n",
        "    X_list = []\n",
        "\n",
        "    for midi_file in midi_file_l:\n",
        "        # --- read the MIDI file\n",
        "        midi_data = pretty_midi.PrettyMIDI(midi_file)\n",
        "        note_l = [note.pitch for note in midi_data.instruments[0].notes]\n",
        "        midi_T_x = len(note_l) if len(note_l) < max_midi_T_x else max_midi_T_x\n",
        "        # --- convert to one-hot-encoding\n",
        "        if student:\n",
        "            # --- START CODE HERE (01)\n",
        "            X_ohe = np.array([[1 if note_l[j] == i else 0 for i in range(n_x)] for j in range(midi_T_x)])\n",
        "            # --- END CODE HERE\n",
        "\n",
        "        # --- add X_ohe to the list X_list\n",
        "        X_list.append(X_ohe)\n",
        "\n",
        "    return X_list"
      ]
    },
    {
      "cell_type": "code",
      "source": [
        "X_list = F_convert_midi_2_list(midi_file_l, max_midi_T_x)\n",
        "print(len(X_list))\n",
        "print(X_list[0].shape)\n",
        "print(X_list[1].shape)\n",
        "print(X_list[2].shape)"
      ],
      "metadata": {
        "colab": {
          "base_uri": "https://localhost:8080/"
        },
        "id": "TNYDlzMuWWY7",
        "outputId": "508cdd71-e7f4-4f73-c10d-501c4d586597"
      },
      "execution_count": 7,
      "outputs": [
        {
          "output_type": "stream",
          "name": "stdout",
          "text": [
            "36\n",
            "(1000, 79)\n",
            "(436, 79)\n",
            "(879, 79)\n"
          ]
        }
      ]
    },
    {
      "cell_type": "markdown",
      "metadata": {
        "id": "nSf8RDL5cv7V"
      },
      "source": [
        "## Display the set of notes over time for a specific track"
      ]
    },
    {
      "cell_type": "code",
      "execution_count": 8,
      "metadata": {
        "colab": {
          "base_uri": "https://localhost:8080/",
          "height": 372
        },
        "id": "wesPFMZHcvKG",
        "outputId": "711faa75-d6a2-44db-fd80-3403e0de13be"
      },
      "outputs": [
        {
          "output_type": "display_data",
          "data": {
            "text/plain": [
              "<Figure size 1000x400 with 1 Axes>"
            ],
            "image/png": "[encoded data removed]"
          },
          "metadata": {}
        }
      ],
      "source": [
        "plt.figure(figsize=(10, 4))\n",
        "plt.imshow(X_list[2].T, aspect='auto')\n",
        "plt.set_cmap('gray_r')\n",
        "plt.grid(True)"
      ]
    },
    {
      "cell_type": "markdown",
      "metadata": {
        "id": "V08HGMgDGKrH"
      },
      "source": [
        "## Data conversion for the training of language model\n",
        "\n",
        "We want to train a language model, i.e. a model thats predict a note given past notes: $p(x^{<\\tau>} | x^{<1>}, x^{<2>}, ... x^{<\\tau-1>})$.\n",
        "\n",
        "A simple way to do this is to create (for each MIDI sequence and for each possible starting note `t` within this MIDI sequence) two sequences:\n",
        "- an input sequence $x$:\n",
        "  - which contains a sub-sequence of length `model_T_x`;  this sub-sequence range from `t` to `t+model_T_x-1`\n",
        "- an output sequence $y$ :\n",
        "  - which contains the same sub-sequence but delayed by one time step: ranging from `t+1` to `t+model_T_x`\n",
        "\n",
        "<img src=\"https://perso.telecom-paristech.fr/gpeeters/doc/Lab_DL_RNN_03.png\">\n",
        "\n"
      ]
    },
    {
      "cell_type": "code",
      "source": [
        "l = len(X_list)\n",
        "len(X_list[:])"
      ],
      "metadata": {
        "colab": {
          "base_uri": "https://localhost:8080/"
        },
        "id": "bYsfviV2RZ4O",
        "outputId": "961a2f85-2426-4127-c17c-05b0c8274ee0"
      },
      "execution_count": 9,
      "outputs": [
        {
          "output_type": "execute_result",
          "data": {
            "text/plain": [
              "36"
            ]
          },
          "metadata": {},
          "execution_count": 9
        }
      ]
    },
    {
      "cell_type": "code",
      "source": [
        "X_list[0].shape"
      ],
      "metadata": {
        "colab": {
          "base_uri": "https://localhost:8080/"
        },
        "id": "CQ_uOw7tRcBg",
        "outputId": "c8203e5c-9d55-4364-8049-6dfeed979b1e"
      },
      "execution_count": 10,
      "outputs": [
        {
          "output_type": "execute_result",
          "data": {
            "text/plain": [
              "(1000, 79)"
            ]
          },
          "metadata": {},
          "execution_count": 10
        }
      ]
    },
    {
      "cell_type": "code",
      "source": [
        "def F_convert_list_2_data(X_list, model_T_x, sequence_step=1):\n",
        "    \"\"\"\n",
        "    convert X_list to input X_train and output Y_train training data\n",
        "\n",
        "    Parameters\n",
        "    ----------\n",
        "    X_list:\n",
        "        a list of np.array X_ohe of size (midi_T_x, n_x) which contains the one-hot-encoding representation of notes over time\n",
        "\n",
        "    Returns\n",
        "    -------\n",
        "    X_train:\n",
        "        the set of all m input sequences; np.array of shape (m, model_T_x, n_x)\n",
        "    Y_train:\n",
        "        the set of all m output sequences; np.array of shape (m, model_T_x, n_x)\n",
        "\n",
        "            note:   m is the total number of training items,\n",
        "                    it is be larger than the number of MIDI files since we use several starting time t in each MIDI file\n",
        "    \"\"\"\n",
        "\n",
        "    if student:\n",
        "        # --- START CODE HERE (02)\n",
        "      X_train_list = [X_list[i][t:t+model_T_x] for i in range(len(X_list)) for t in range(0, len(X_list[i])-model_T_x, sequence_step)]\n",
        "      y_train_list = [X_list[i][t+1:t+model_T_x+1] for i in range(len(X_list)) for t in range(0, len(X_list[i])-model_T_x, sequence_step)]\n",
        "        # --- END CODE HERE\n",
        "\n",
        "    X_train = np.asarray(X_train_list)\n",
        "    Y_train = np.asarray(y_train_list)\n",
        "\n",
        "    return X_train, Y_train"
      ],
      "metadata": {
        "id": "l2S88My-MB9S"
      },
      "execution_count": 11,
      "outputs": []
    },
    {
      "cell_type": "code",
      "source": [
        "X_train, Y_train = F_convert_list_2_data(X_list, model_T_x)\n",
        "# --- X_train is of shape (m, model_T_x, n_x)\n",
        "print(\"X_train.shape:\", X_train.shape)\n",
        "# --- Y_train is of shape (m, model_T_x, n_x)\n",
        "print(\"Y_train.shape:\", Y_train.shape)\n",
        "\n",
        "\n",
        "plt.figure(figsize=(10, 4))\n",
        "plt.subplot(1,2,1); plt.imshow(X_train[20,:,:].T, aspect='auto'); plt.grid(True); plt.title('X_train')\n",
        "plt.subplot(1,2,2); plt.imshow(Y_train[20,:,:].T, aspect='auto'); plt.grid(True); plt.title('Y_train')\n",
        "plt.set_cmap('gray_r')"
      ],
      "metadata": {
        "colab": {
          "base_uri": "https://localhost:8080/",
          "height": 426
        },
        "id": "hfNVmriZQzoJ",
        "outputId": "fef73f7d-fb58-4b2f-bf6a-2b6c739cb8b9"
      },
      "execution_count": 12,
      "outputs": [
        {
          "output_type": "stream",
          "name": "stdout",
          "text": [
            "X_train.shape: (20901, 100, 79)\n",
            "Y_train.shape: (20901, 100, 79)\n"
          ]
        },
        {
          "output_type": "display_data",
          "data": {
            "text/plain": [
              "<Figure size 1000x400 with 2 Axes>"
            ],
            "image/png": "[encoded data removed]"
          },
          "metadata": {}
        }
      ]
    },
    {
      "cell_type": "markdown",
      "metadata": {
        "id": "HhNPrmvveuH3"
      },
      "source": [
        "# Training the language model\n",
        "\n",
        "To learn the language model we will train an RNN with input `X_train` and output `Y_train`.  \n",
        "For each example, we give to the network a sequence of notes from `t` to `t+model_T_x-1`  and ask the network to predict the following note of each sequence `t+1` to `t+model_T_x`.\n",
        "We already created those in `X_train` and `Y_train`.\n",
        "\n",
        "The network architecture is the following:\n",
        "- (1a) a layer of `LSTM` with `model_n_a` units\n",
        "- (1b) a layer of DropOut with rate 0.3 (the probability to \"drop-out\" one neuron is 0.3)\n",
        "- (2a) a layer of `LSTM` with `model_n_a` units\n",
        "- (2b) a layer of DropOut with rate 0.3 (the probability to \"drop-out\" one neuron is 0.3)\n",
        "- (3) a layer of `LSTM` with `model_n_a` units\n",
        "- (4a) a layer of `Dense` with `model_n_a` units with a `tanh` activation\n",
        "- (4b) a layer of DropOut with rate 0.3 (the probability to \"drop-out\" one neuron is 0.3)\n",
        "- (5) a layer of `Dense` with a `softmax` activation which predict the probability of each of the $n_x$ notes as output\n",
        "\n",
        "## Returning the hidden states at each time of an LSTM cell\n",
        "\n",
        "By default `LSTM` in keras only outputs the hidden states for the last time step. If we want `LSTM` to output the hidden states for each time steps $t$, we need to use the option `return_sequences=True`.\n",
        "\n",
        "Note that since we stack one LSTM layer on top of another LSTM layer (deep-RNN), we therefore need to tell the bottom `LSTM` to output its hidden states at each time step $t$.\n",
        "\n"
      ]
    },
    {
      "cell_type": "code",
      "source": [
        "# --- Create the model\n",
        "K.clear_session()\n",
        "\n",
        "if student:\n",
        "    # --- START CODE HERE (03)\n",
        "    model = Sequential(\n",
        "        [\n",
        "            SimpleRNN(model_n_a, return_sequences=True, input_shape=(model_T_x, n_x)),\n",
        "            Dropout(0.3),\n",
        "            SimpleRNN(model_n_a, return_sequences=True),\n",
        "            Dropout(0.3),\n",
        "            SimpleRNN(model_n_a, return_sequences=True),\n",
        "            Dense(model_n_a, activation=\"tanh\"),\n",
        "            Dropout(0.3),\n",
        "            Dense(n_x, activation=\"softmax\")\n",
        "        ]\n",
        "    )\n",
        "    # --- END CODE HERE\n",
        "\n",
        "print(model.summary())"
      ],
      "metadata": {
        "colab": {
          "base_uri": "https://localhost:8080/"
        },
        "id": "6POEE0uFcNrC",
        "outputId": "6fbe1d52-5e04-4590-f1ef-9275c98fb040"
      },
      "execution_count": 13,
      "outputs": [
        {
          "output_type": "stream",
          "name": "stdout",
          "text": [
            "Model: \"sequential\"\n",
            "_________________________________________________________________\n",
            " Layer (type)                Output Shape              Param #   \n",
            "=================================================================\n",
            " simple_rnn (SimpleRNN)      (None, 100, 32)           3584      \n",
            "                                                                 \n",
            " dropout (Dropout)           (None, 100, 32)           0         \n",
            "                                                                 \n",
            " simple_rnn_1 (SimpleRNN)    (None, 100, 32)           2080      \n",
            "                                                                 \n",
            " dropout_1 (Dropout)         (None, 100, 32)           0         \n",
            "                                                                 \n",
            " simple_rnn_2 (SimpleRNN)    (None, 100, 32)           2080      \n",
            "                                                                 \n",
            " dense (Dense)               (None, 100, 32)           1056      \n",
            "                                                                 \n",
            " dropout_2 (Dropout)         (None, 100, 32)           0         \n",
            "                                                                 \n",
            " dense_1 (Dense)             (None, 100, 79)           2607      \n",
            "                                                                 \n",
            "=================================================================\n",
            "Total params: 11407 (44.56 KB)\n",
            "Trainable params: 11407 (44.56 KB)\n",
            "Non-trainable params: 0 (0.00 Byte)\n",
            "_________________________________________________________________\n",
            "None\n"
          ]
        }
      ]
    },
    {
      "cell_type": "markdown",
      "source": [
        "We now compile the network (`model.compile`) specifying the loss to be optimized (we deal here with a multi-class problem), how to minimize the loss (here we will use `adam` optimizer) and indicate what we want to display during training (here we also ask to display the `accuracy`).\n",
        "\n",
        "As in `scikit-learn` we then fit the model (`model.fit`), i.e. we train its parameters, by providing the input and the ground-truth output; we also specifify the number of `epochs`to use (one `epoch` correspond to having see the whole training-set, hence it corresponds to several mini-batches, hence to several optimization steps) and the `batch_size`.\n",
        "\n",
        "We will also use `early-stopping` to avoid over-fitting. `early-stopping` stops the training when the loss on the validation-set stops decreasing. For this we need to create a validation set (we do this by splitting the training-set in two, `validation_split`). We then define a `callback` (something that keras needs to monitor during training, here we monitor the loss on validation-set, `monitor='val_loss`).\n",
        "`patience=3` indicates that we wait for 3 epochs after the criteria is not valid."
      ],
      "metadata": {
        "id": "Qj-ueyUCcR7Y"
      }
    },
    {
      "cell_type": "code",
      "execution_count": 14,
      "metadata": {
        "colab": {
          "base_uri": "https://localhost:8080/",
          "height": 668
        },
        "id": "yhWTNfIbFDmf",
        "outputId": "b32e0dd6-02cf-48de-9a11-a20ac00643f2"
      },
      "outputs": [
        {
          "output_type": "stream",
          "name": "stdout",
          "text": [
            "Epoch 1/100\n",
            "1176/1176 [==============================] - 335s 277ms/step - loss: 2.8785 - accuracy: 0.1453 - val_loss: 2.5550 - val_accuracy: 0.2129\n",
            "Epoch 2/100\n",
            "1176/1176 [==============================] - 320s 272ms/step - loss: 2.4745 - accuracy: 0.2529 - val_loss: 2.5043 - val_accuracy: 0.2556\n",
            "Epoch 3/100\n",
            "1176/1176 [==============================] - 320s 272ms/step - loss: 2.3814 - accuracy: 0.2918 - val_loss: 2.4621 - val_accuracy: 0.2678\n",
            "Epoch 4/100\n",
            "1176/1176 [==============================] - 316s 269ms/step - loss: 2.3216 - accuracy: 0.3149 - val_loss: 2.4315 - val_accuracy: 0.2803\n",
            "Epoch 5/100\n",
            "1176/1176 [==============================] - 356s 303ms/step - loss: 2.2809 - accuracy: 0.3290 - val_loss: 2.4232 - val_accuracy: 0.2914\n",
            "Epoch 6/100\n",
            "1176/1176 [==============================] - 300s 255ms/step - loss: 2.2547 - accuracy: 0.3373 - val_loss: 2.3995 - val_accuracy: 0.2902\n",
            "Epoch 7/100\n",
            "1176/1176 [==============================] - 300s 255ms/step - loss: 2.2334 - accuracy: 0.3432 - val_loss: 2.3966 - val_accuracy: 0.2816\n",
            "Epoch 8/100\n",
            "1176/1176 [==============================] - 301s 256ms/step - loss: 2.2175 - accuracy: 0.3478 - val_loss: 2.3917 - val_accuracy: 0.2886\n",
            "Epoch 9/100\n",
            "  25/1176 [..............................] - ETA: 4:33 - loss: 2.1789 - accuracy: 0.3559"
          ]
        },
        {
          "output_type": "error",
          "ename": "KeyboardInterrupt",
          "evalue": "ignored",
          "traceback": [
            "\u001b[0;31m---------------------------------------------------------------------------\u001b[0m",
            "\u001b[0;31mKeyboardInterrupt\u001b[0m                         Traceback (most recent call last)",
            "\u001b[0;32m<ipython-input-14-22f39f5f9744>\u001b[0m in \u001b[0;36m<cell line: 4>\u001b[0;34m()\u001b[0m\n\u001b[1;32m      2\u001b[0m \u001b[0mcallback\u001b[0m \u001b[0;34m=\u001b[0m \u001b[0mEarlyStopping\u001b[0m\u001b[0;34m(\u001b[0m\u001b[0mmonitor\u001b[0m\u001b[0;34m=\u001b[0m\u001b[0;34m'val_loss'\u001b[0m\u001b[0;34m,\u001b[0m \u001b[0mpatience\u001b[0m\u001b[0;34m=\u001b[0m\u001b[0;36m3\u001b[0m\u001b[0;34m)\u001b[0m\u001b[0;34m\u001b[0m\u001b[0;34m\u001b[0m\u001b[0m\n\u001b[1;32m      3\u001b[0m \u001b[0mmodel\u001b[0m\u001b[0;34m.\u001b[0m\u001b[0mcompile\u001b[0m\u001b[0;34m(\u001b[0m\u001b[0mloss\u001b[0m\u001b[0;34m=\u001b[0m\u001b[0;34m'categorical_crossentropy'\u001b[0m\u001b[0;34m,\u001b[0m \u001b[0moptimizer\u001b[0m\u001b[0;34m=\u001b[0m\u001b[0;34m'adam'\u001b[0m\u001b[0;34m,\u001b[0m \u001b[0mmetrics\u001b[0m\u001b[0;34m=\u001b[0m\u001b[0;34m[\u001b[0m\u001b[0;34m'accuracy'\u001b[0m\u001b[0;34m]\u001b[0m\u001b[0;34m)\u001b[0m\u001b[0;34m\u001b[0m\u001b[0;34m\u001b[0m\u001b[0m\n\u001b[0;32m----> 4\u001b[0;31m \u001b[0mmodel\u001b[0m\u001b[0;34m.\u001b[0m\u001b[0mfit\u001b[0m\u001b[0;34m(\u001b[0m\u001b[0mX_train\u001b[0m\u001b[0;34m,\u001b[0m \u001b[0mY_train\u001b[0m\u001b[0;34m,\u001b[0m \u001b[0mepochs\u001b[0m\u001b[0;34m=\u001b[0m\u001b[0;36m100\u001b[0m\u001b[0;34m,\u001b[0m \u001b[0mbatch_size\u001b[0m\u001b[0;34m=\u001b[0m\u001b[0;36m16\u001b[0m\u001b[0;34m,\u001b[0m \u001b[0mvalidation_split\u001b[0m\u001b[0;34m=\u001b[0m\u001b[0;36m0.1\u001b[0m\u001b[0;34m,\u001b[0m \u001b[0mshuffle\u001b[0m\u001b[0;34m=\u001b[0m\u001b[0;32mTrue\u001b[0m\u001b[0;34m,\u001b[0m \u001b[0mcallbacks\u001b[0m\u001b[0;34m=\u001b[0m\u001b[0;34m[\u001b[0m\u001b[0mcallback\u001b[0m\u001b[0;34m]\u001b[0m\u001b[0;34m)\u001b[0m\u001b[0;34m\u001b[0m\u001b[0;34m\u001b[0m\u001b[0m\n\u001b[0m",
            "\u001b[0;32m/usr/local/lib/python3.10/dist-packages/keras/src/utils/traceback_utils.py\u001b[0m in \u001b[0;36merror_handler\u001b[0;34m(*args, **kwargs)\u001b[0m\n\u001b[1;32m     63\u001b[0m         \u001b[0mfiltered_tb\u001b[0m \u001b[0;34m=\u001b[0m \u001b[0;32mNone\u001b[0m\u001b[0;34m\u001b[0m\u001b[0;34m\u001b[0m\u001b[0m\n\u001b[1;32m     64\u001b[0m         \u001b[0;32mtry\u001b[0m\u001b[0;34m:\u001b[0m\u001b[0;34m\u001b[0m\u001b[0;34m\u001b[0m\u001b[0m\n\u001b[0;32m---> 65\u001b[0;31m             \u001b[0;32mreturn\u001b[0m \u001b[0mfn\u001b[0m\u001b[0;34m(\u001b[0m\u001b[0;34m*\u001b[0m\u001b[0margs\u001b[0m\u001b[0;34m,\u001b[0m \u001b[0;34m**\u001b[0m\u001b[0mkwargs\u001b[0m\u001b[0;34m)\u001b[0m\u001b[0;34m\u001b[0m\u001b[0;34m\u001b[0m\u001b[0m\n\u001b[0m\u001b[1;32m     66\u001b[0m         \u001b[0;32mexcept\u001b[0m \u001b[0mException\u001b[0m \u001b[0;32mas\u001b[0m \u001b[0me\u001b[0m\u001b[0;34m:\u001b[0m\u001b[0;34m\u001b[0m\u001b[0;34m\u001b[0m\u001b[0m\n\u001b[1;32m     67\u001b[0m             \u001b[0mfiltered_tb\u001b[0m \u001b[0;34m=\u001b[0m \u001b[0m_process_traceback_frames\u001b[0m\u001b[0;34m(\u001b[0m\u001b[0me\u001b[0m\u001b[0;34m.\u001b[0m\u001b[0m__traceback__\u001b[0m\u001b[0;34m)\u001b[0m\u001b[0;34m\u001b[0m\u001b[0;34m\u001b[0m\u001b[0m\n",
            "\u001b[0;32m/usr/local/lib/python3.10/dist-packages/keras/src/engine/training.py\u001b[0m in \u001b[0;36mfit\u001b[0;34m(self, x, y, batch_size, epochs, verbose, callbacks, validation_split, validation_data, shuffle, class_weight, sample_weight, initial_epoch, steps_per_epoch, validation_steps, validation_batch_size, validation_freq, max_queue_size, workers, use_multiprocessing)\u001b[0m\n\u001b[1;32m   1740\u001b[0m                         ):\n\u001b[1;32m   1741\u001b[0m                             \u001b[0mcallbacks\u001b[0m\u001b[0;34m.\u001b[0m\u001b[0mon_train_batch_begin\u001b[0m\u001b[0;34m(\u001b[0m\u001b[0mstep\u001b[0m\u001b[0;34m)\u001b[0m\u001b[0;34m\u001b[0m\u001b[0;34m\u001b[0m\u001b[0m\n\u001b[0;32m-> 1742\u001b[0;31m                             \u001b[0mtmp_logs\u001b[0m \u001b[0;34m=\u001b[0m \u001b[0mself\u001b[0m\u001b[0;34m.\u001b[0m\u001b[0mtrain_function\u001b[0m\u001b[0;34m(\u001b[0m\u001b[0miterator\u001b[0m\u001b[0;34m)\u001b[0m\u001b[0;34m\u001b[0m\u001b[0;34m\u001b[0m\u001b[0m\n\u001b[0m\u001b[1;32m   1743\u001b[0m                             \u001b[0;32mif\u001b[0m \u001b[0mdata_handler\u001b[0m\u001b[0;34m.\u001b[0m\u001b[0mshould_sync\u001b[0m\u001b[0;34m:\u001b[0m\u001b[0;34m\u001b[0m\u001b[0;34m\u001b[0m\u001b[0m\n\u001b[1;32m   1744\u001b[0m                                 \u001b[0mcontext\u001b[0m\u001b[0;34m.\u001b[0m\u001b[0masync_wait\u001b[0m\u001b[0;34m(\u001b[0m\u001b[0;34m)\u001b[0m\u001b[0;34m\u001b[0m\u001b[0;34m\u001b[0m\u001b[0m\n",
            "\u001b[0;32m/usr/local/lib/python3.10/dist-packages/tensorflow/python/util/traceback_utils.py\u001b[0m in \u001b[0;36merror_handler\u001b[0;34m(*args, **kwargs)\u001b[0m\n\u001b[1;32m    148\u001b[0m     \u001b[0mfiltered_tb\u001b[0m \u001b[0;34m=\u001b[0m \u001b[0;32mNone\u001b[0m\u001b[0;34m\u001b[0m\u001b[0;34m\u001b[0m\u001b[0m\n\u001b[1;32m    149\u001b[0m     \u001b[0;32mtry\u001b[0m\u001b[0;34m:\u001b[0m\u001b[0;34m\u001b[0m\u001b[0;34m\u001b[0m\u001b[0m\n\u001b[0;32m--> 150\u001b[0;31m       \u001b[0;32mreturn\u001b[0m \u001b[0mfn\u001b[0m\u001b[0;34m(\u001b[0m\u001b[0;34m*\u001b[0m\u001b[0margs\u001b[0m\u001b[0;34m,\u001b[0m \u001b[0;34m**\u001b[0m\u001b[0mkwargs\u001b[0m\u001b[0;34m)\u001b[0m\u001b[0;34m\u001b[0m\u001b[0;34m\u001b[0m\u001b[0m\n\u001b[0m\u001b[1;32m    151\u001b[0m     \u001b[0;32mexcept\u001b[0m \u001b[0mException\u001b[0m \u001b[0;32mas\u001b[0m \u001b[0me\u001b[0m\u001b[0;34m:\u001b[0m\u001b[0;34m\u001b[0m\u001b[0;34m\u001b[0m\u001b[0m\n\u001b[1;32m    152\u001b[0m       \u001b[0mfiltered_tb\u001b[0m \u001b[0;34m=\u001b[0m \u001b[0m_process_traceback_frames\u001b[0m\u001b[0;34m(\u001b[0m\u001b[0me\u001b[0m\u001b[0;34m.\u001b[0m\u001b[0m__traceback__\u001b[0m\u001b[0;34m)\u001b[0m\u001b[0;34m\u001b[0m\u001b[0;34m\u001b[0m\u001b[0m\n",
            "\u001b[0;32m/usr/local/lib/python3.10/dist-packages/tensorflow/python/eager/polymorphic_function/polymorphic_function.py\u001b[0m in \u001b[0;36m__call__\u001b[0;34m(self, *args, **kwds)\u001b[0m\n\u001b[1;32m    823\u001b[0m \u001b[0;34m\u001b[0m\u001b[0m\n\u001b[1;32m    824\u001b[0m       \u001b[0;32mwith\u001b[0m \u001b[0mOptionalXlaContext\u001b[0m\u001b[0;34m(\u001b[0m\u001b[0mself\u001b[0m\u001b[0;34m.\u001b[0m\u001b[0m_jit_compile\u001b[0m\u001b[0;34m)\u001b[0m\u001b[0;34m:\u001b[0m\u001b[0;34m\u001b[0m\u001b[0;34m\u001b[0m\u001b[0m\n\u001b[0;32m--> 825\u001b[0;31m         \u001b[0mresult\u001b[0m \u001b[0;34m=\u001b[0m \u001b[0mself\u001b[0m\u001b[0;34m.\u001b[0m\u001b[0m_call\u001b[0m\u001b[0;34m(\u001b[0m\u001b[0;34m*\u001b[0m\u001b[0margs\u001b[0m\u001b[0;34m,\u001b[0m \u001b[0;34m**\u001b[0m\u001b[0mkwds\u001b[0m\u001b[0;34m)\u001b[0m\u001b[0;34m\u001b[0m\u001b[0;34m\u001b[0m\u001b[0m\n\u001b[0m\u001b[1;32m    826\u001b[0m \u001b[0;34m\u001b[0m\u001b[0m\n\u001b[1;32m    827\u001b[0m       \u001b[0mnew_tracing_count\u001b[0m \u001b[0;34m=\u001b[0m \u001b[0mself\u001b[0m\u001b[0;34m.\u001b[0m\u001b[0mexperimental_get_tracing_count\u001b[0m\u001b[0;34m(\u001b[0m\u001b[0;34m)\u001b[0m\u001b[0;34m\u001b[0m\u001b[0;34m\u001b[0m\u001b[0m\n",
            "\u001b[0;32m/usr/local/lib/python3.10/dist-packages/tensorflow/python/eager/polymorphic_function/polymorphic_function.py\u001b[0m in \u001b[0;36m_call\u001b[0;34m(self, *args, **kwds)\u001b[0m\n\u001b[1;32m    855\u001b[0m       \u001b[0;31m# In this case we have created variables on the first call, so we run the\u001b[0m\u001b[0;34m\u001b[0m\u001b[0;34m\u001b[0m\u001b[0m\n\u001b[1;32m    856\u001b[0m       \u001b[0;31m# defunned version which is guaranteed to never create variables.\u001b[0m\u001b[0;34m\u001b[0m\u001b[0;34m\u001b[0m\u001b[0m\n\u001b[0;32m--> 857\u001b[0;31m       \u001b[0;32mreturn\u001b[0m \u001b[0mself\u001b[0m\u001b[0;34m.\u001b[0m\u001b[0m_no_variable_creation_fn\u001b[0m\u001b[0;34m(\u001b[0m\u001b[0;34m*\u001b[0m\u001b[0margs\u001b[0m\u001b[0;34m,\u001b[0m \u001b[0;34m**\u001b[0m\u001b[0mkwds\u001b[0m\u001b[0;34m)\u001b[0m  \u001b[0;31m# pylint: disable=not-callable\u001b[0m\u001b[0;34m\u001b[0m\u001b[0;34m\u001b[0m\u001b[0m\n\u001b[0m\u001b[1;32m    858\u001b[0m     \u001b[0;32melif\u001b[0m \u001b[0mself\u001b[0m\u001b[0;34m.\u001b[0m\u001b[0m_variable_creation_fn\u001b[0m \u001b[0;32mis\u001b[0m \u001b[0;32mnot\u001b[0m \u001b[0;32mNone\u001b[0m\u001b[0;34m:\u001b[0m\u001b[0;34m\u001b[0m\u001b[0;34m\u001b[0m\u001b[0m\n\u001b[1;32m    859\u001b[0m       \u001b[0;31m# Release the lock early so that multiple threads can perform the call\u001b[0m\u001b[0;34m\u001b[0m\u001b[0;34m\u001b[0m\u001b[0m\n",
            "\u001b[0;32m/usr/local/lib/python3.10/dist-packages/tensorflow/python/eager/polymorphic_function/tracing_compiler.py\u001b[0m in \u001b[0;36m__call__\u001b[0;34m(self, *args, **kwargs)\u001b[0m\n\u001b[1;32m    146\u001b[0m       (concrete_function,\n\u001b[1;32m    147\u001b[0m        filtered_flat_args) = self._maybe_define_function(args, kwargs)\n\u001b[0;32m--> 148\u001b[0;31m     return concrete_function._call_flat(\n\u001b[0m\u001b[1;32m    149\u001b[0m         filtered_flat_args, captured_inputs=concrete_function.captured_inputs)  # pylint: disable=protected-access\n\u001b[1;32m    150\u001b[0m \u001b[0;34m\u001b[0m\u001b[0m\n",
            "\u001b[0;32m/usr/local/lib/python3.10/dist-packages/tensorflow/python/eager/polymorphic_function/monomorphic_function.py\u001b[0m in \u001b[0;36m_call_flat\u001b[0;34m(self, args, captured_inputs)\u001b[0m\n\u001b[1;32m   1347\u001b[0m         and executing_eagerly):\n\u001b[1;32m   1348\u001b[0m       \u001b[0;31m# No tape is watching; skip to running the function.\u001b[0m\u001b[0;34m\u001b[0m\u001b[0;34m\u001b[0m\u001b[0m\n\u001b[0;32m-> 1349\u001b[0;31m       \u001b[0;32mreturn\u001b[0m \u001b[0mself\u001b[0m\u001b[0;34m.\u001b[0m\u001b[0m_build_call_outputs\u001b[0m\u001b[0;34m(\u001b[0m\u001b[0mself\u001b[0m\u001b[0;34m.\u001b[0m\u001b[0m_inference_function\u001b[0m\u001b[0;34m(\u001b[0m\u001b[0;34m*\u001b[0m\u001b[0margs\u001b[0m\u001b[0;34m)\u001b[0m\u001b[0;34m)\u001b[0m\u001b[0;34m\u001b[0m\u001b[0;34m\u001b[0m\u001b[0m\n\u001b[0m\u001b[1;32m   1350\u001b[0m     forward_backward = self._select_forward_and_backward_functions(\n\u001b[1;32m   1351\u001b[0m         \u001b[0margs\u001b[0m\u001b[0;34m,\u001b[0m\u001b[0;34m\u001b[0m\u001b[0;34m\u001b[0m\u001b[0m\n",
            "\u001b[0;32m/usr/local/lib/python3.10/dist-packages/tensorflow/python/eager/polymorphic_function/atomic_function.py\u001b[0m in \u001b[0;36m__call__\u001b[0;34m(self, *args)\u001b[0m\n\u001b[1;32m    194\u001b[0m         \u001b[0;32mwith\u001b[0m \u001b[0mrecord\u001b[0m\u001b[0;34m.\u001b[0m\u001b[0mstop_recording\u001b[0m\u001b[0;34m(\u001b[0m\u001b[0;34m)\u001b[0m\u001b[0;34m:\u001b[0m\u001b[0;34m\u001b[0m\u001b[0;34m\u001b[0m\u001b[0m\n\u001b[1;32m    195\u001b[0m           \u001b[0;32mif\u001b[0m \u001b[0mself\u001b[0m\u001b[0;34m.\u001b[0m\u001b[0m_bound_context\u001b[0m\u001b[0;34m.\u001b[0m\u001b[0mexecuting_eagerly\u001b[0m\u001b[0;34m(\u001b[0m\u001b[0;34m)\u001b[0m\u001b[0;34m:\u001b[0m\u001b[0;34m\u001b[0m\u001b[0;34m\u001b[0m\u001b[0m\n\u001b[0;32m--> 196\u001b[0;31m             outputs = self._bound_context.call_function(\n\u001b[0m\u001b[1;32m    197\u001b[0m                 \u001b[0mself\u001b[0m\u001b[0;34m.\u001b[0m\u001b[0mname\u001b[0m\u001b[0;34m,\u001b[0m\u001b[0;34m\u001b[0m\u001b[0;34m\u001b[0m\u001b[0m\n\u001b[1;32m    198\u001b[0m                 \u001b[0mlist\u001b[0m\u001b[0;34m(\u001b[0m\u001b[0margs\u001b[0m\u001b[0;34m)\u001b[0m\u001b[0;34m,\u001b[0m\u001b[0;34m\u001b[0m\u001b[0;34m\u001b[0m\u001b[0m\n",
            "\u001b[0;32m/usr/local/lib/python3.10/dist-packages/tensorflow/python/eager/context.py\u001b[0m in \u001b[0;36mcall_function\u001b[0;34m(self, name, tensor_inputs, num_outputs)\u001b[0m\n\u001b[1;32m   1455\u001b[0m     \u001b[0mcancellation_context\u001b[0m \u001b[0;34m=\u001b[0m \u001b[0mcancellation\u001b[0m\u001b[0;34m.\u001b[0m\u001b[0mcontext\u001b[0m\u001b[0;34m(\u001b[0m\u001b[0;34m)\u001b[0m\u001b[0;34m\u001b[0m\u001b[0;34m\u001b[0m\u001b[0m\n\u001b[1;32m   1456\u001b[0m     \u001b[0;32mif\u001b[0m \u001b[0mcancellation_context\u001b[0m \u001b[0;32mis\u001b[0m \u001b[0;32mNone\u001b[0m\u001b[0;34m:\u001b[0m\u001b[0;34m\u001b[0m\u001b[0;34m\u001b[0m\u001b[0m\n\u001b[0;32m-> 1457\u001b[0;31m       outputs = execute.execute(\n\u001b[0m\u001b[1;32m   1458\u001b[0m           \u001b[0mname\u001b[0m\u001b[0;34m.\u001b[0m\u001b[0mdecode\u001b[0m\u001b[0;34m(\u001b[0m\u001b[0;34m\"utf-8\"\u001b[0m\u001b[0;34m)\u001b[0m\u001b[0;34m,\u001b[0m\u001b[0;34m\u001b[0m\u001b[0;34m\u001b[0m\u001b[0m\n\u001b[1;32m   1459\u001b[0m           \u001b[0mnum_outputs\u001b[0m\u001b[0;34m=\u001b[0m\u001b[0mnum_outputs\u001b[0m\u001b[0;34m,\u001b[0m\u001b[0;34m\u001b[0m\u001b[0;34m\u001b[0m\u001b[0m\n",
            "\u001b[0;32m/usr/local/lib/python3.10/dist-packages/tensorflow/python/eager/execute.py\u001b[0m in \u001b[0;36mquick_execute\u001b[0;34m(op_name, num_outputs, inputs, attrs, ctx, name)\u001b[0m\n\u001b[1;32m     51\u001b[0m   \u001b[0;32mtry\u001b[0m\u001b[0;34m:\u001b[0m\u001b[0;34m\u001b[0m\u001b[0;34m\u001b[0m\u001b[0m\n\u001b[1;32m     52\u001b[0m     \u001b[0mctx\u001b[0m\u001b[0;34m.\u001b[0m\u001b[0mensure_initialized\u001b[0m\u001b[0;34m(\u001b[0m\u001b[0;34m)\u001b[0m\u001b[0;34m\u001b[0m\u001b[0;34m\u001b[0m\u001b[0m\n\u001b[0;32m---> 53\u001b[0;31m     tensors = pywrap_tfe.TFE_Py_Execute(ctx._handle, device_name, op_name,\n\u001b[0m\u001b[1;32m     54\u001b[0m                                         inputs, attrs, num_outputs)\n\u001b[1;32m     55\u001b[0m   \u001b[0;32mexcept\u001b[0m \u001b[0mcore\u001b[0m\u001b[0;34m.\u001b[0m\u001b[0m_NotOkStatusException\u001b[0m \u001b[0;32mas\u001b[0m \u001b[0me\u001b[0m\u001b[0;34m:\u001b[0m\u001b[0;34m\u001b[0m\u001b[0;34m\u001b[0m\u001b[0m\n",
            "\u001b[0;31mKeyboardInterrupt\u001b[0m: "
          ]
        }
      ],
      "source": [
        "# --- Compile and fit the model\n",
        "callback = EarlyStopping(monitor='val_loss', patience=3)\n",
        "model.compile(loss='categorical_crossentropy', optimizer='adam', metrics=['accuracy'])\n",
        "model.fit(X_train, Y_train, epochs=100, batch_size=16, validation_split=0.1, shuffle=True, callbacks=[callback])"
      ]
    },
    {
      "cell_type": "markdown",
      "metadata": {
        "id": "DLQ7JaRhGEKa"
      },
      "source": [
        "# Generating a new sequence by sampling the language model\n",
        "\n",
        "To generate a new sequence from the language model,\n",
        "\n",
        "- we first randomly choose a starting note among the `n_x` possible ones. For this you can use `\n",
        "np.random.multinomial` and either\n",
        "    - assume an uniform distribution\n",
        "    - compute a prior note distribution (you can do this by computing the number of occurences of each notes in the training set)\n",
        "- we then create an artificial input `x` that can be used by our model. Our model requires data `x` of shape `(m, T_x, n_x)`. In our case\n",
        "    - `m=1` since we have only one sequence,\n",
        "    - `T_x` should be the length used when training our model so it is `model_T_x` and\n",
        "    - `n_x` is the number of notes.\n",
        "- we set the data at time `t=0`, `x[0,0,:]`, to our random note (after converting it to a one-hot-encoding)\n",
        "- we then feed our model with this data. The model has been trained to predict $p(x^{<\\tau>} | x^{<1>}, x^{<2>}, ... x^{<\\tau-1>})$.\n",
        "The output of the model `y` is of shape `(m, T_x, n_x)`. But only the first value is meaningfull so far.\n",
        "The output value `y` at `t=0` is $p(x^{<1>} | x^{<0>})$, i.e. the probability of each note to be the second note given our first note as input. Actually `y` at `t=0` (noted `y[0,0,:]`) is a vector that represents the probability of each of the `n_x` notes given the one at `t=0`. We can then either\n",
        "    - (a) get the most likely class from the vector `y[0,0,:]` (`np.argmax`) or\n",
        "    - (b) consider the vector `y[0,0,:]` as a multinomial distribution and sample from it (`np.random.multinomial`). If the vector is too peaky (one of the probability is much larger than the other) we can flatten it using a temperature scaling (see below).\n",
        "- whathever (a) or (b), the selected note is now considered as the note at `t=1`. We therefore add it (after conversion to one-hot-encoding) to the input data $x$ at time `t=1`: `x[0,1,:]`.\n",
        "- we then feed our model with this new `x`. The output of the model at `t=1`, `y[0,1,:]`, is $p(x^{<2>} | x^{<0>}, x^{<1>})$. We then either perform (a) or (b), plugs the new selected notes as the input $x$ at `t=2`, `x[0,2,:]`, and repeat the process for the following times until we reach `model_T_x`.\n",
        "\n",
        "To apply a temperature $T$ parameter to a discrete probability $\\{p_c\\}_{c \\in \\{1,...,K\\}}$, you can use\n",
        "$$p'_c = \\frac{e^{\\log(p_c)/T}}{\\sum_{k=1}^K e^{\\log(p_k)/T}}$$ where $K$ is the number of classes."
      ]
    },
    {
      "cell_type": "code",
      "execution_count": null,
      "metadata": {
        "id": "cq3LArhMMaqq"
      },
      "outputs": [],
      "source": [
        "from numpy.ma.core import argmax\n",
        "def F_get_max_temperature(proba_v, temperature=1):\n",
        "    \"\"\"\n",
        "    apply a temperature to the input probability\n",
        "    consider it as a multinomial distribution\n",
        "    sample it\n",
        "\n",
        "    Parameters\n",
        "    ----------\n",
        "    proba_v: np.array(n_x)\n",
        "        input probability vector\n",
        "    temperature: scalar float\n",
        "        temperature parameters to apply to proba_v,\n",
        "        >1 leads to more flatten probability,\n",
        "        <1 leads to more peaky probability\n",
        "\n",
        "    Returns\n",
        "    -------\n",
        "    index_pred: scalar int\n",
        "        position of the sampled data in the probability vector\n",
        "    pred_v: np.array(n_x)\n",
        "        modified probability\n",
        "    \"\"\"\n",
        "    if student:\n",
        "        # --- START CODE HERE (04)\n",
        "        proba_v = proba_v**(1/temperature)\n",
        "        proba_v = proba_v/np.sum(proba_v)\n",
        "        index_pred = np.random.choice(range(len(proba_v)), p=proba_v)\n",
        "        pred_v = np.zeros(len(proba_v))\n",
        "        #proba_v /= temperature\n",
        "        #pred_v = np.exp(proba_v)/np.sum(np.exp(proba_v))\n",
        "        #index_pred = np.random.multinomial(1, pred_v, size=1)\n",
        "        # --- END CODE HERE\n",
        "\n",
        "    return index_pred, pred_v"
      ]
    },
    {
      "cell_type": "code",
      "execution_count": null,
      "metadata": {
        "id": "8m2YtxlqC7Kf"
      },
      "outputs": [],
      "source": [
        "def F_sample_new_sequence(model, prior_v):\n",
        "    \"\"\"\n",
        "    sample the trained language model to generate new data\n",
        "\n",
        "    Parameters\n",
        "    ----------\n",
        "    model:\n",
        "        trained language model\n",
        "\n",
        "    Returns\n",
        "    -------\n",
        "    note_l: list of int\n",
        "        list of generated notes (list of their index)\n",
        "    prediction_l: list of np.array(n_x)\n",
        "        list of prediction probabilies over time t (each entry of the list is one of the y[0,t,:])\n",
        "    \"\"\"\n",
        "\n",
        "    if student:\n",
        "        # --- START CODE HERE (05)\n",
        "        note_l = []\n",
        "        prediction_l = []\n",
        "\n",
        "        # Initialize the current probability distribution\n",
        "        current_prob = prior_v\n",
        "\n",
        "        # Generate a sequence of notes\n",
        "        note_l = []\n",
        "        prediction_l = []\n",
        "        x = np.zeros((1, model_T_x, n_x))\n",
        "        x[0, 0, :] = prior_v\n",
        "        for t in range(model_T_x-1):\n",
        "          prediction = model.predict(x)[0, t, :]\n",
        "          index_pred, pred_v = F_get_max_temperature(prediction, temperature=1)\n",
        "          note_l.append(index_pred)\n",
        "          prediction_l.append(pred_v)\n",
        "          x[0, t+1, :] = pred_v\n",
        "        # --- END CODE HERE\n",
        "\n",
        "    return note_l, prediction_l"
      ]
    },
    {
      "cell_type": "markdown",
      "source": [
        "### Display the generated sequence"
      ],
      "metadata": {
        "id": "o41Jh6Igf0pD"
      }
    },
    {
      "cell_type": "code",
      "source": [
        "if False:\n",
        "    prior_v = np.ones(n_x)/n_x\n",
        "else:\n",
        "    sum_v = np.zeros(n_x)\n",
        "    for X_ohe in X_list: sum_v += np.sum(X_list[0], axis=0)\n",
        "    prior_v = sum_v/np.sum(sum_v)\n",
        "\n",
        "note_l, prediction_l = F_sample_new_sequence(model, prior_v)\n",
        "\n",
        "plt.figure(figsize=(10, 6))\n",
        "plt.imshow(np.asarray(prediction_l).T, aspect='auto', origin='lower')\n",
        "plt.plot(note_l, 'ro')\n",
        "plt.set_cmap('gray_r')\n",
        "plt.grid(True)"
      ],
      "metadata": {
        "id": "cquOqdXUfoWH"
      },
      "execution_count": null,
      "outputs": []
    },
    {
      "cell_type": "markdown",
      "metadata": {
        "id": "ZwM6osfDg5E0"
      },
      "source": [
        "### Create a MIDI file and an audio file which correspond to the generated sequence\n",
        "\n",
        "Once the new sequence has been generated (`note_l`) we transform it to a new MIDI file and perform (a very cheap) rendering of it in an audio file."
      ]
    },
    {
      "cell_type": "code",
      "execution_count": null,
      "metadata": {
        "id": "8cpTszOFID51"
      },
      "outputs": [],
      "source": [
        "new_midi_data = pretty_midi.PrettyMIDI()\n",
        "cello_program = pretty_midi.instrument_name_to_program('Cello')\n",
        "cello = pretty_midi.Instrument(program=cello_program)\n",
        "time = 0\n",
        "step = 0.3\n",
        "for note_number in note_l:\n",
        "    myNote = pretty_midi.Note(velocity=100, pitch=note_number, start=time, end=time+step)\n",
        "    cello.notes.append(myNote)\n",
        "    time += step\n",
        "new_midi_data.instruments.append(cello)\n",
        "new_midi_data.write('output.mid')"
      ]
    },
    {
      "cell_type": "code",
      "execution_count": null,
      "metadata": {
        "id": "yOXBXxa3IGKW"
      },
      "outputs": [],
      "source": [
        "%matplotlib inline\n",
        "audio_data = new_midi_data.synthesize(fs=44100)\n",
        "IPython.display.Audio(audio_data, rate=44100)"
      ]
    },
    {
      "cell_type": "markdown",
      "metadata": {
        "id": "Wb4DLCWjj93s"
      },
      "source": [
        "# Evaluation\n",
        "\n",
        "To evaluate the work, you should rate the code for\n",
        "- 1) MIDI conversion to one-hot-encoding: F_convert_midi_2_list (01)\n",
        "- 2) Data conversion for the training of language model (02) `F_convert_list_2_data`\n",
        "- 3) Training the language model (03)\n",
        "- 4) Generating a new sequence from sampling the language model\n",
        "    - `F_get_max_temperature` (04)\n",
        "    - `F_sample_new_sequence` (05)\n",
        "\n",
        "You will also rate the answer to the four questions below."
      ]
    },
    {
      "cell_type": "markdown",
      "metadata": {
        "id": "sgjoIxEqL7bx"
      },
      "source": [
        "## Question 1)\n",
        "\n",
        "FR: Que se passe-t'il si on remplace la cellule LSTM par une cellule RNNsimple ?\n",
        "\n",
        "UK: What happens if we replace the LSTM cell by a RNNsimple cell?\n",
        "\n",
        "**Réponse/Answer (en-dessous/below)** (1 points)"
      ]
    },
    {
      "cell_type": "markdown",
      "metadata": {
        "id": "DIstqiBzj93v"
      },
      "source": [
        "LSTM : Mets moins de temps à compiler que RNNS\n",
        "Est ce que c'est à cause du vanishing gradient qui ralentit le training ?\n"
      ]
    },
    {
      "cell_type": "markdown",
      "metadata": {
        "id": "FTB7qV8wj93y"
      },
      "source": [
        "## Question 2)\n",
        "\n",
        "FR: Que se passe-t'il si l'on raccourci la longueur des séquences utilisées pour l'entrainement ? Comment palier à cet effet ?\n",
        "\n",
        "UK: What happens if we shorten the length of the sequences used for training? How can this effect be avoided?\n",
        "\n",
        "\n",
        "**Réponse/Answer (en-dessous/below)** (1 points)"
      ]
    },
    {
      "cell_type": "markdown",
      "metadata": {
        "id": "UAuSUBH4j932"
      },
      "source": [
        "\n"
      ]
    },
    {
      "cell_type": "markdown",
      "metadata": {
        "id": "46IzXO5Wj935"
      },
      "source": [
        "## Question 3)\n",
        "FR: Comment pourrait-on rendre le système `polyphonique` (plusieurs notes jouées simultanément par le même instrument) ? pour l'entrainement ? pour la génération ?\n",
        "\n",
        "UK: How could we make the system polyphonic (several notes played simultaneously by the same instrument)? for training? for generation?\n",
        "\n",
        "\n",
        "**Réponse/Answer (en-dessous/below)** (2 points)"
      ]
    },
    {
      "cell_type": "markdown",
      "source": [
        "Plusieurs modifications seraient à faire dans l'optique d'une transition vers un système polyphonique :\n",
        "- 1-hot encoding : En effet, en considérant qu'il est possible de jouer des accords les sequences représentant un instant 1-hot encodées ne comporteraient plus seulement un $1$ mais plusieurs valeurs $1$. Note that a matrix of 1-hot encoded vectors could also work in this case.\n",
        "$$\n",
        "\\text{De } seq = [1, 0, 0, ⋯, 0] \\text{  A par exemple } seq = [1, 0, 1, ⋯, 1]\n",
        "$$\n",
        "\n",
        "- Récupération des notes : Il nous serait impossible de passer de la séquence 1-hot encodée à la note avec la fonction $argmax$ de numpy. A la place, nous pourrions utiliser la fonction $where$ de numpy.\n",
        "- Architecture du réseau : Finalement, dans le contexte d'un tel changement nous chercherions à faire de la classification multi-label et non mult-class. De fait, nous devrions remplacer l'activation de la couche dense de sortie par une activation $sigmoid$ à la place de l'activation $softmax$. Nous garderions le même nombre de neurones $k=79$ pour la couche de sortie."
      ],
      "metadata": {
        "id": "4WIRNqXRy6Ij"
      }
    }
  ],
  "metadata": {
    "accelerator": "GPU",
    "colab": {
      "provenance": [],
      "toc_visible": true
    },
    "kernelspec": {
      "display_name": "Python 3",
      "language": "python",
      "name": "python3"
    },
    "language_info": {
      "codemirror_mode": {
        "name": "ipython",
        "version": 3
      },
      "file_extension": ".py",
      "mimetype": "text/x-python",
      "name": "python",
      "nbconvert_exporter": "python",
      "pygments_lexer": "ipython3",
      "version": "3.8.5"
    },
    "toc": {
      "base_numbering": 1,
      "nav_menu": {},
      "number_sections": true,
      "sideBar": true,
      "skip_h1_title": false,
      "title_cell": "Table of Contents",
      "title_sidebar": "Contents",
      "toc_cell": false,
      "toc_position": {},
      "toc_section_display": true,
      "toc_window_display": false
    }
  },
  "nbformat": 4,
  "nbformat_minor": 0
}